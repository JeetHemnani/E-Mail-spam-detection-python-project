Download the dataset from https://www.kaggle.com/datasets/purusinghvi/email-spam-classification-dataset on Kaggle
