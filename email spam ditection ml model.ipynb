{
 "cells": [
  {
   "cell_type": "markdown",
   "id": "81ffd39b",
   "metadata": {},
   "source": [
    "# 1. Import required libraries\n",
    "\n"
   ]
  },
  {
   "cell_type": "code",
   "execution_count": 9,
   "id": "8eb3c7ce",
   "metadata": {},
   "outputs": [],
   "source": [
    "import pandas as pd                                      # for data loading & manipulation\n",
    "from collections import Counter\n",
    "import re\n",
    "from sklearn.model_selection import train_test_split     # to split data into train/test\n",
    "from sklearn.feature_extraction.text import CountVectorizer, TfidfVectorizer  \n",
    "                                                       # to convert text → numeric features\n",
    "from sklearn.naive_bayes import MultinomialNB           # Naïve Bayes classifier\n",
    "from sklearn.linear_model import LogisticRegression     # Logistic Regression classifier\n",
    "from sklearn.svm import LinearSVC                        # Support Vector Machine\n",
    "from sklearn.ensemble import RandomForestClassifier      # Random Forest classifier\n",
    "from sklearn.metrics import (accuracy_score,             # for measuring model performance\n",
    "                             classification_report,\n",
    "                             confusion_matrix)\n"
   ]
  },
  {
   "cell_type": "markdown",
   "id": "6b897c5f",
   "metadata": {},
   "source": [
    "# 2. Load the dataset\n"
   ]
  },
  {
   "cell_type": "code",
   "execution_count": 10,
   "id": "6815d64a",
   "metadata": {},
   "outputs": [],
   "source": [
    "df = pd.read_csv('combined_data.csv')          # assumes your CSV sits in data/raw/\n",
    "                                                       # and has columns \"label\" and \"text\"\n"
   ]
  },
  {
   "cell_type": "markdown",
   "id": "d883d7b9",
   "metadata": {},
   "source": [
    "# 3. Quick peek at size & first rows\n"
   ]
  },
  {
   "cell_type": "code",
   "execution_count": 11,
   "id": "ae197e90",
   "metadata": {},
   "outputs": [
    {
     "name": "stdout",
     "output_type": "stream",
     "text": [
      "Shape (rows, cols): (83448, 2)\n",
      "\n",
      "First 5 rows:\n",
      "   label                                               text\n",
      "0      1  ounce feather bowl hummingbird opec moment ala...\n",
      "1      1  wulvob get your medircations online qnb ikud v...\n",
      "2      0   computer connection from cnn com wednesday es...\n",
      "3      1  university degree obtain a prosperous future m...\n",
      "4      0  thanks for all your answers guys i know i shou...\n"
     ]
    }
   ],
   "source": [
    "print(\"Shape (rows, cols):\", df.shape)\n",
    "print(\"\\nFirst 5 rows:\")\n",
    "print(df.head())"
   ]
  },
  {
   "cell_type": "markdown",
   "id": "cac853f1",
   "metadata": {},
   "source": [
    "# 4. Check for missing or null values"
   ]
  },
  {
   "cell_type": "code",
   "execution_count": 12,
   "id": "b9ee76a0",
   "metadata": {},
   "outputs": [
    {
     "name": "stdout",
     "output_type": "stream",
     "text": [
      "\n",
      "Missing values per column:\n",
      "label    0\n",
      "text     0\n",
      "dtype: int64\n"
     ]
    }
   ],
   "source": [
    "print(\"\\nMissing values per column:\")\n",
    "print(df.isnull().sum())"
   ]
  },
  {
   "cell_type": "markdown",
   "id": "16cce404",
   "metadata": {},
   "source": [
    "# 5. Class balance: how many spam vs. ham?"
   ]
  },
  {
   "cell_type": "code",
   "execution_count": 13,
   "id": "b2cfdb03",
   "metadata": {},
   "outputs": [
    {
     "name": "stdout",
     "output_type": "stream",
     "text": [
      "\n",
      "Label distribution:\n",
      "label\n",
      "1    43910\n",
      "0    39538\n",
      "Name: count, dtype: int64\n"
     ]
    }
   ],
   "source": [
    "print(\"\\nLabel distribution:\")\n",
    "print(df['label'].value_counts())"
   ]
  },
  {
   "cell_type": "markdown",
   "id": "64e42874",
   "metadata": {},
   "source": [
    "# 6. Add basic text‐length features\n"
   ]
  },
  {
   "cell_type": "code",
   "execution_count": 15,
   "id": "f097891f",
   "metadata": {},
   "outputs": [
    {
     "name": "stdout",
     "output_type": "stream",
     "text": [
      "\n",
      "Text length summary (chars and words):\n",
      "          char_count     word_count\n",
      "count   83448.000000   83448.000000\n",
      "mean     1662.952725     282.811775\n",
      "std      4178.578068     724.818152\n",
      "min         1.000000       1.000000\n",
      "25%       449.000000      80.000000\n",
      "50%       879.000000     152.000000\n",
      "75%      1861.000000     312.000000\n",
      "max    598705.000000  101984.000000\n"
     ]
    }
   ],
   "source": [
    "df['char_count'] = df['text'].str.len()               # number of characters\n",
    "df['word_count'] = df['text'].str.split().str.len()   # number of words\n",
    "print(\"\\nText length summary (chars and words):\")\n",
    "print(df[['char_count','word_count']].describe())"
   ]
  },
  {
   "cell_type": "markdown",
   "id": "c6301d16",
   "metadata": {},
   "source": [
    "# 7. Top 10 most frequent words (simple stop‐word removal)\n"
   ]
  },
  {
   "cell_type": "code",
   "execution_count": 16,
   "id": "7f33dfac",
   "metadata": {},
   "outputs": [
    {
     "name": "stdout",
     "output_type": "stream",
     "text": [
      "\n",
      "Top 10 words (after basic cleaning):\n",
      "  'escapenumber': 1148051\n",
      "  'escapelong': 227296\n",
      "  'have': 85762\n",
      "  'http': 82235\n",
      "  'not': 76839\n",
      "  'will': 70320\n",
      "  'com': 69818\n",
      "  'all': 57574\n",
      "  'enron': 52861\n",
      "  'can': 50285\n"
     ]
    }
   ],
   "source": [
    "texts = (\n",
    "    df['text']\n",
    "    .str.lower()                                                   # lowercase\n",
    "    .str.replace(r'[^a-z\\s]', ' ', regex=True)                    # remove punctuation/numbers\n",
    "    .str.split()                                                  # split into words\n",
    "    .explode()                                                    # flatten to one word per row\n",
    ")\n",
    "\n",
    "stopwords = {\n",
    "    'the','to','and','of','a','in','for','is','on','you','your',\n",
    "    'this','i','it','we','that','with','our','be','are','from'\n",
    "}\n",
    "\n",
    "filtered = texts[~texts.isin(stopwords) & (texts.str.len() > 2)]\n",
    "top10 = Counter(filtered).most_common(10)\n",
    "\n",
    "print(\"\\nTop 10 words (after basic cleaning):\")\n",
    "for word, cnt in top10:\n",
    "    print(f\"  {word!r}: {cnt}\")\n"
   ]
  },
  {
   "cell_type": "markdown",
   "id": "4051800e",
   "metadata": {},
   "source": [
    "# 8. Show 3 example messages of each class\n"
   ]
  },
  {
   "cell_type": "code",
   "execution_count": 19,
   "id": "ec65e7c7",
   "metadata": {},
   "outputs": [
    {
     "name": "stdout",
     "output_type": "stream",
     "text": [
      "['spam' 'ham']\n"
     ]
    },
    {
     "data": {
      "text/plain": [
       "73411    wireless optical\\n3 - button scroll mouse\\nlim...\n",
       "27342    from the desk of philip moore\\ndept credit con...\n",
       "27216    submitting your website in search engines may ...\n",
       "Name: text, dtype: object"
      ]
     },
     "execution_count": 19,
     "metadata": {},
     "output_type": "execute_result"
    }
   ],
   "source": [
    "df['label_str'] = df['label'].map({1: 'spam', 0: 'ham'})\n",
    "print(df['label_str'].unique())  # ['spam', 'ham']\n",
    "# Then your original code will work:\n",
    "df[df['label_str']=='spam']['text'].sample(3, random_state=42)\n"
   ]
  },
  {
   "cell_type": "markdown",
   "id": "73daa752",
   "metadata": {},
   "source": [
    "# 9. Prepare inputs (X) and target (y)\n"
   ]
  },
  {
   "cell_type": "code",
   "execution_count": 20,
   "id": "e1b9bb6a",
   "metadata": {},
   "outputs": [],
   "source": [
    "X = df['text']                                         # X is the raw email text\n",
    "y = df['label']                                        # y is either 'spam' or 'ham'\n"
   ]
  },
  {
   "cell_type": "code",
   "execution_count": 21,
   "id": "420bb497",
   "metadata": {},
   "outputs": [
    {
     "data": {
      "text/html": [
       "<div>\n",
       "<style scoped>\n",
       "    .dataframe tbody tr th:only-of-type {\n",
       "        vertical-align: middle;\n",
       "    }\n",
       "\n",
       "    .dataframe tbody tr th {\n",
       "        vertical-align: top;\n",
       "    }\n",
       "\n",
       "    .dataframe thead th {\n",
       "        text-align: right;\n",
       "    }\n",
       "</style>\n",
       "<table border=\"1\" class=\"dataframe\">\n",
       "  <thead>\n",
       "    <tr style=\"text-align: right;\">\n",
       "      <th></th>\n",
       "      <th>label</th>\n",
       "      <th>text</th>\n",
       "      <th>char_count</th>\n",
       "      <th>word_count</th>\n",
       "      <th>label_str</th>\n",
       "    </tr>\n",
       "  </thead>\n",
       "  <tbody>\n",
       "    <tr>\n",
       "      <th>0</th>\n",
       "      <td>1</td>\n",
       "      <td>ounce feather bowl hummingbird opec moment ala...</td>\n",
       "      <td>148</td>\n",
       "      <td>20</td>\n",
       "      <td>spam</td>\n",
       "    </tr>\n",
       "    <tr>\n",
       "      <th>1</th>\n",
       "      <td>1</td>\n",
       "      <td>wulvob get your medircations online qnb ikud v...</td>\n",
       "      <td>808</td>\n",
       "      <td>103</td>\n",
       "      <td>spam</td>\n",
       "    </tr>\n",
       "    <tr>\n",
       "      <th>2</th>\n",
       "      <td>0</td>\n",
       "      <td>computer connection from cnn com wednesday es...</td>\n",
       "      <td>2235</td>\n",
       "      <td>337</td>\n",
       "      <td>ham</td>\n",
       "    </tr>\n",
       "    <tr>\n",
       "      <th>3</th>\n",
       "      <td>1</td>\n",
       "      <td>university degree obtain a prosperous future m...</td>\n",
       "      <td>592</td>\n",
       "      <td>76</td>\n",
       "      <td>spam</td>\n",
       "    </tr>\n",
       "    <tr>\n",
       "      <th>4</th>\n",
       "      <td>0</td>\n",
       "      <td>thanks for all your answers guys i know i shou...</td>\n",
       "      <td>1362</td>\n",
       "      <td>222</td>\n",
       "      <td>ham</td>\n",
       "    </tr>\n",
       "  </tbody>\n",
       "</table>\n",
       "</div>"
      ],
      "text/plain": [
       "   label                                               text  char_count  \\\n",
       "0      1  ounce feather bowl hummingbird opec moment ala...         148   \n",
       "1      1  wulvob get your medircations online qnb ikud v...         808   \n",
       "2      0   computer connection from cnn com wednesday es...        2235   \n",
       "3      1  university degree obtain a prosperous future m...         592   \n",
       "4      0  thanks for all your answers guys i know i shou...        1362   \n",
       "\n",
       "   word_count label_str  \n",
       "0          20      spam  \n",
       "1         103      spam  \n",
       "2         337       ham  \n",
       "3          76      spam  \n",
       "4         222       ham  "
      ]
     },
     "execution_count": 21,
     "metadata": {},
     "output_type": "execute_result"
    }
   ],
   "source": [
    "df.head()"
   ]
  },
  {
   "cell_type": "markdown",
   "id": "a16cb816",
   "metadata": {},
   "source": [
    "# 10. Split into train/test sets\n"
   ]
  },
  {
   "cell_type": "code",
   "execution_count": 22,
   "id": "565a9925",
   "metadata": {},
   "outputs": [],
   "source": [
    "X_train_raw, X_test_raw, y_train, y_test = train_test_split(\n",
    "    X, y,\n",
    "    test_size=0.20,        # 20% of data for testing\n",
    "    stratify=y,            # preserve the spam/ham ratio in both splits\n",
    "    random_state=42        # for reproducibility\n",
    ")"
   ]
  },
  {
   "cell_type": "markdown",
   "id": "3660111d",
   "metadata": {},
   "source": [
    "# 11. Choose your vectorizer (uncomment one):\n"
   ]
  },
  {
   "cell_type": "code",
   "execution_count": 23,
   "id": "260ff14b",
   "metadata": {},
   "outputs": [],
   "source": [
    "vectorizer = CountVectorizer(lowercase=True,\n",
    "                             stop_words='english',\n",
    "                             token_pattern=r'\\b\\w+\\b')\n",
    "vectorizer = TfidfVectorizer(lowercase=True,\n",
    "                             stop_words='english',\n",
    "                             token_pattern=r'\\b\\w+\\b')"
   ]
  },
  {
   "cell_type": "code",
   "execution_count": 24,
   "id": "467326b0",
   "metadata": {},
   "outputs": [
    {
     "data": {
      "text/html": [
       "<div>\n",
       "<style scoped>\n",
       "    .dataframe tbody tr th:only-of-type {\n",
       "        vertical-align: middle;\n",
       "    }\n",
       "\n",
       "    .dataframe tbody tr th {\n",
       "        vertical-align: top;\n",
       "    }\n",
       "\n",
       "    .dataframe thead th {\n",
       "        text-align: right;\n",
       "    }\n",
       "</style>\n",
       "<table border=\"1\" class=\"dataframe\">\n",
       "  <thead>\n",
       "    <tr style=\"text-align: right;\">\n",
       "      <th></th>\n",
       "      <th>label</th>\n",
       "      <th>text</th>\n",
       "      <th>char_count</th>\n",
       "      <th>word_count</th>\n",
       "      <th>label_str</th>\n",
       "    </tr>\n",
       "  </thead>\n",
       "  <tbody>\n",
       "    <tr>\n",
       "      <th>0</th>\n",
       "      <td>1</td>\n",
       "      <td>ounce feather bowl hummingbird opec moment ala...</td>\n",
       "      <td>148</td>\n",
       "      <td>20</td>\n",
       "      <td>spam</td>\n",
       "    </tr>\n",
       "    <tr>\n",
       "      <th>1</th>\n",
       "      <td>1</td>\n",
       "      <td>wulvob get your medircations online qnb ikud v...</td>\n",
       "      <td>808</td>\n",
       "      <td>103</td>\n",
       "      <td>spam</td>\n",
       "    </tr>\n",
       "    <tr>\n",
       "      <th>2</th>\n",
       "      <td>0</td>\n",
       "      <td>computer connection from cnn com wednesday es...</td>\n",
       "      <td>2235</td>\n",
       "      <td>337</td>\n",
       "      <td>ham</td>\n",
       "    </tr>\n",
       "    <tr>\n",
       "      <th>3</th>\n",
       "      <td>1</td>\n",
       "      <td>university degree obtain a prosperous future m...</td>\n",
       "      <td>592</td>\n",
       "      <td>76</td>\n",
       "      <td>spam</td>\n",
       "    </tr>\n",
       "    <tr>\n",
       "      <th>4</th>\n",
       "      <td>0</td>\n",
       "      <td>thanks for all your answers guys i know i shou...</td>\n",
       "      <td>1362</td>\n",
       "      <td>222</td>\n",
       "      <td>ham</td>\n",
       "    </tr>\n",
       "  </tbody>\n",
       "</table>\n",
       "</div>"
      ],
      "text/plain": [
       "   label                                               text  char_count  \\\n",
       "0      1  ounce feather bowl hummingbird opec moment ala...         148   \n",
       "1      1  wulvob get your medircations online qnb ikud v...         808   \n",
       "2      0   computer connection from cnn com wednesday es...        2235   \n",
       "3      1  university degree obtain a prosperous future m...         592   \n",
       "4      0  thanks for all your answers guys i know i shou...        1362   \n",
       "\n",
       "   word_count label_str  \n",
       "0          20      spam  \n",
       "1         103      spam  \n",
       "2         337       ham  \n",
       "3          76      spam  \n",
       "4         222       ham  "
      ]
     },
     "execution_count": 24,
     "metadata": {},
     "output_type": "execute_result"
    }
   ],
   "source": [
    "df.head()"
   ]
  },
  {
   "cell_type": "markdown",
   "id": "adcd6f24",
   "metadata": {},
   "source": [
    "# 12. Fit the vectorizer on training text, then transform both train & test\n"
   ]
  },
  {
   "cell_type": "code",
   "execution_count": 25,
   "id": "6369ebbf",
   "metadata": {},
   "outputs": [],
   "source": [
    "X_train = vectorizer.fit_transform(X_train_raw)        # learns vocabulary & transforms train\n",
    "X_test  = vectorizer.transform(X_test_raw)             # transforms test using same vocab\n"
   ]
  },
  {
   "cell_type": "markdown",
   "id": "2e5473ee",
   "metadata": {},
   "source": [
    "# 13. Define your classifiers\n"
   ]
  },
  {
   "cell_type": "code",
   "execution_count": 27,
   "id": "7a022cec",
   "metadata": {},
   "outputs": [],
   "source": [
    "models = {\n",
    "    'Naive Bayes':        MultinomialNB(alpha=1.0),     # Laplace smoothing α=1\n",
    "    'Logistic Regression': LogisticRegression(max_iter=1000, n_jobs=-1),\n",
    "    'Linear SVM':         LinearSVC(max_iter=10000),\n",
    "    'Random Forest':      RandomForestClassifier(n_estimators=100, n_jobs=-1, random_state=42)\n",
    "    }"
   ]
  },
  {
   "cell_type": "markdown",
   "id": "e22e43be",
   "metadata": {},
   "source": [
    "# 14. Train each model & evaluate\n"
   ]
  },
  {
   "cell_type": "code",
   "execution_count": 29,
   "id": "7864823f",
   "metadata": {},
   "outputs": [
    {
     "name": "stdout",
     "output_type": "stream",
     "text": [
      "\n",
      "=== Naive Bayes ===\n",
      "Accuracy: 0.9766\n",
      "\n",
      "Classification Report:\n",
      "              precision    recall  f1-score   support\n",
      "\n",
      "           0     0.9642    0.9872    0.9756      7908\n",
      "           1     0.9882    0.9670    0.9775      8782\n",
      "\n",
      "    accuracy                         0.9766     16690\n",
      "   macro avg     0.9762    0.9771    0.9765     16690\n",
      "weighted avg     0.9768    0.9766    0.9766     16690\n",
      "\n",
      "Confusion Matrix:\n",
      "[[7807  101]\n",
      " [ 290 8492]]\n",
      "\n",
      "=== Logistic Regression ===\n",
      "Accuracy: 0.9859\n",
      "\n",
      "Classification Report:\n",
      "              precision    recall  f1-score   support\n",
      "\n",
      "           0     0.9923    0.9779    0.9850      7908\n",
      "           1     0.9803    0.9932    0.9867      8782\n",
      "\n",
      "    accuracy                         0.9859     16690\n",
      "   macro avg     0.9863    0.9855    0.9859     16690\n",
      "weighted avg     0.9860    0.9859    0.9859     16690\n",
      "\n",
      "Confusion Matrix:\n",
      "[[7733  175]\n",
      " [  60 8722]]\n",
      "\n",
      "=== Linear SVM ===\n",
      "Accuracy: 0.9916\n",
      "\n",
      "Classification Report:\n",
      "              precision    recall  f1-score   support\n",
      "\n",
      "           0     0.9941    0.9880    0.9911      7908\n",
      "           1     0.9892    0.9948    0.9920      8782\n",
      "\n",
      "    accuracy                         0.9916     16690\n",
      "   macro avg     0.9917    0.9914    0.9915     16690\n",
      "weighted avg     0.9916    0.9916    0.9916     16690\n",
      "\n",
      "Confusion Matrix:\n",
      "[[7813   95]\n",
      " [  46 8736]]\n",
      "\n",
      "=== Random Forest ===\n",
      "Accuracy: 0.9839\n",
      "\n",
      "Classification Report:\n",
      "              precision    recall  f1-score   support\n",
      "\n",
      "           0     0.9791    0.9871    0.9831      7908\n",
      "           1     0.9883    0.9810    0.9846      8782\n",
      "\n",
      "    accuracy                         0.9839     16690\n",
      "   macro avg     0.9837    0.9840    0.9838     16690\n",
      "weighted avg     0.9839    0.9839    0.9839     16690\n",
      "\n",
      "Confusion Matrix:\n",
      "[[7806  102]\n",
      " [ 167 8615]]\n"
     ]
    }
   ],
   "source": [
    "for name, clf in models.items():\n",
    "    print(f\"\\n=== {name} ===\")\n",
    "    clf.fit(X_train, y_train)                         # train on the TF-IDF/Count features\n",
    "    y_pred = clf.predict(X_test)                      # predict labels on test set\n",
    "\n",
    "    # 8a. Accuracy\n",
    "    acc = accuracy_score(y_test, y_pred)\n",
    "    print(f\"Accuracy: {acc:.4f}\")\n",
    "\n",
    "    # 8b. Precision / Recall / F1\n",
    "    print(\"\\nClassification Report:\")\n",
    "    print(classification_report(y_test, y_pred, digits=4))\n",
    "\n",
    "    # 8c. Confusion Matrix\n",
    "    print(\"Confusion Matrix:\")\n",
    "    print(confusion_matrix(y_test, y_pred))\n"
   ]
  },
  {
   "cell_type": "code",
   "execution_count": null,
   "id": "6496fb11",
   "metadata": {},
   "outputs": [],
   "source": []
  }
 ],
 "metadata": {
  "kernelspec": {
   "display_name": "base",
   "language": "python",
   "name": "python3"
  },
  "language_info": {
   "codemirror_mode": {
    "name": "ipython",
    "version": 3
   },
   "file_extension": ".py",
   "mimetype": "text/x-python",
   "name": "python",
   "nbconvert_exporter": "python",
   "pygments_lexer": "ipython3",
   "version": "3.12.7"
  }
 },
 "nbformat": 4,
 "nbformat_minor": 5
}
